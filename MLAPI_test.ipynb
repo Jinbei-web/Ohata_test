{
 "cells": [
  {
   "cell_type": "code",
   "execution_count": 7,
   "metadata": {},
   "outputs": [],
   "source": [
    "import numpy as np\n",
    "import pandas as pd\n",
    "import random\n",
    "import datetime\n",
    "\n",
    "#2018から2022年度のデータを読み込み\n",
    "dir_name = \"./MLAPI_test/\"\n",
    "last_info_df = pd.read_pickle(dir_name + 'last_info_df_update_v2.pickle')#欠場レースのデータなし．\n",
    "shutuba_tables_df = pd.read_pickle(dir_name + \"shutuba_table_df_update_v2.pickle\")#欠場レース有のレースもデータ有り\n",
    "calc_df = pd.read_pickle(dir_name + \"past_caluc_map_update_v2.pickle\") #レースクラス（常に最新のものを読み込む必要がある）\n",
    "race_class_df = pd.read_pickle(dir_name + \"race_class_df_update.pickle\") #レースクラス（常に最新のものを読み込む必要がある）\n",
    "\n",
    "#last_info_dfとshutuba_tables_dfとrace_results_dfの共通レースは，1752031(2022/09/07)"
   ]
  },
  {
   "cell_type": "code",
   "execution_count": 8,
   "metadata": {},
   "outputs": [],
   "source": [
    "import sys\n",
    "sys.path\n",
    "\n",
    "import lightgbm \n",
    "import importlib\n",
    "import jinbei_MLAPI_V1_2\n",
    "importlib.reload(jinbei_MLAPI_V1_2)\n",
    "from jinbei_MLAPI_V1_2 import ApplyData\n",
    "from jinbei_MLAPI_V1_2 import jinbei_index\n",
    "raceID = \"202212182412\"\n",
    "b = shutuba_tables_df.loc[raceID]\n",
    "a = last_info_df.loc[raceID]\n",
    "appleid_data = ApplyData(a,b, calc_df, race_class_df)"
   ]
  },
  {
   "cell_type": "code",
   "execution_count": 9,
   "metadata": {},
   "outputs": [
    {
     "data": {
      "text/plain": [
       "(['1-2-3',\n",
       "  '1-3-2',\n",
       "  '1-4-3',\n",
       "  '1-4-2',\n",
       "  '1-2-4',\n",
       "  '3-1-6',\n",
       "  '1-3-5',\n",
       "  '2-3-1',\n",
       "  '2-3-5',\n",
       "  '3-1-5'],\n",
       " [6.574959879653965,\n",
       "  1.3990004064703248,\n",
       "  1.2545859936832704,\n",
       "  1.159618328426226,\n",
       "  1.0490993558618158,\n",
       "  1.02636447931112,\n",
       "  0.8917335281525699,\n",
       "  0.8577304700966253,\n",
       "  0.7722237598778535,\n",
       "  0.6847221126848473])"
      ]
     },
     "execution_count": 9,
     "metadata": {},
     "output_type": "execute_result"
    }
   ],
   "source": [
    "appleid_data.predict_120class(output_count_120class = 10)"
   ]
  },
  {
   "cell_type": "code",
   "execution_count": 6,
   "metadata": {},
   "outputs": [
    {
     "data": {
      "text/plain": [
       "array([98.5925135 , 86.43388291, 90.95085493, 97.94283453, 79.66665971,\n",
       "       98.90538408])"
      ]
     },
     "execution_count": 6,
     "metadata": {},
     "output_type": "execute_result"
    }
   ],
   "source": [
    "jinbei_index(b,  calc_df, \"2022-12-18\")"
   ]
  },
  {
   "cell_type": "code",
   "execution_count": null,
   "metadata": {},
   "outputs": [],
   "source": []
  },
  {
   "cell_type": "code",
   "execution_count": null,
   "metadata": {},
   "outputs": [],
   "source": []
  },
  {
   "cell_type": "code",
   "execution_count": 5,
   "metadata": {},
   "outputs": [],
   "source": [
    "import sys\n",
    "sys.path\n",
    "\n",
    "import importlib\n",
    "import jinbei_MLAPI_V1\n",
    "importlib.reload(jinbei_MLAPI_V1)\n",
    "from jinbei_MLAPI_V1 import ApplyData\n",
    "\n",
    "raceID = \"202212182412\"\n",
    "b = shutuba_tables_df.loc[raceID]\n",
    "a = last_info_df.loc[raceID]\n",
    "\n",
    "appleid_data = ApplyData(a,b)"
   ]
  },
  {
   "cell_type": "code",
   "execution_count": 6,
   "metadata": {},
   "outputs": [
    {
     "data": {
      "text/plain": [
       "array([98.5925135 , 86.43388291, 90.95085493, 97.94283453, 79.66665971,\n",
       "       98.90538408])"
      ]
     },
     "execution_count": 6,
     "metadata": {},
     "output_type": "execute_result"
    }
   ],
   "source": [
    "appleid_data.predict_120class(output_count_120class = 10)\n",
    "appleid_data.jinbei_index"
   ]
  },
  {
   "cell_type": "markdown",
   "metadata": {},
   "source": [
    "<h1>Jinbei平指標</h1>"
   ]
  },
  {
   "cell_type": "code",
   "execution_count": 6,
   "metadata": {},
   "outputs": [],
   "source": [
    "exp_point_features = appleid_data.smooth_df_features[['exp_point_feature']]"
   ]
  },
  {
   "cell_type": "code",
   "execution_count": 16,
   "metadata": {},
   "outputs": [
    {
     "name": "stdout",
     "output_type": "stream",
     "text": [
      "min->\n",
      "9.32421652015598\n",
      "max->\n",
      "19.842630938837576\n"
     ]
    }
   ],
   "source": [
    "features_path = \"/Users/masakiohata/Desktop/Jinbeiweb/modeling/test_requirement_file/bf_smooth_weighted_features_data_14to23_V17.pickle\"\n",
    "features = pd.read_pickle(features_path)\n",
    "print(\"min->\")\n",
    "print(features[\"smooth_weighted_exp_point_featureV2\"].min())\n",
    "print(\"max->\")\n",
    "print(features[\"smooth_weighted_exp_point_featureV2\"].max())"
   ]
  },
  {
   "cell_type": "code",
   "execution_count": 18,
   "metadata": {},
   "outputs": [],
   "source": [
    "jmetrix_min = features[\"smooth_weighted_exp_point_featureV2\"].min()\n",
    "jmetrix_max = features[\"smooth_weighted_exp_point_featureV2\"].max()\n",
    "scaling_metrics = 100*((exp_point_features - jmetrix_min)/(jmetrix_max - jmetrix_min))\n"
   ]
  },
  {
   "cell_type": "code",
   "execution_count": 19,
   "metadata": {},
   "outputs": [
    {
     "data": {
      "text/plain": [
       "array([98.5925135 , 86.43388291, 90.95085493, 97.94283453, 79.66665971,\n",
       "       98.90538408])"
      ]
     },
     "execution_count": 19,
     "metadata": {},
     "output_type": "execute_result"
    }
   ],
   "source": [
    "scaling_metrics[\"exp_point_feature\"].values"
   ]
  },
  {
   "cell_type": "code",
   "execution_count": 20,
   "metadata": {},
   "outputs": [
    {
     "data": {
      "text/plain": [
       "([<matplotlib.axis.YTick at 0x7fb837f582e0>,\n",
       "  <matplotlib.axis.YTick at 0x7fb837f44790>,\n",
       "  <matplotlib.axis.YTick at 0x7fb837f44370>,\n",
       "  <matplotlib.axis.YTick at 0x7fb837f787f0>,\n",
       "  <matplotlib.axis.YTick at 0x7fb837f78d90>,\n",
       "  <matplotlib.axis.YTick at 0x7fb837f83520>],\n",
       " [Text(0, 0.1, '1.boat'),\n",
       "  Text(0, 1.1, '2.boat'),\n",
       "  Text(0, 2.1, '3.boat'),\n",
       "  Text(0, 3.1, '4.boat'),\n",
       "  Text(0, 4.1, '5.boat'),\n",
       "  Text(0, 5.1, '6.boat')])"
      ]
     },
     "execution_count": 20,
     "metadata": {},
     "output_type": "execute_result"
    },
    {
     "name": "stderr",
     "output_type": "stream",
     "text": [
      "findfont: Font family ['MS Gothic'] not found. Falling back to DejaVu Sans.\n"
     ]
    },
    {
     "data": {
      "image/png": "[encoded data removed]",
      "text/plain": [
       "<Figure size 1200x600 with 1 Axes>"
      ]
     },
     "metadata": {
      "needs_background": "light"
     },
     "output_type": "display_data"
    }
   ],
   "source": [
    "import matplotlib.pyplot as plt\n",
    "import numpy as np\n",
    "plt.rcParams['font.family'] = 'MS Gothic'\n",
    " \n",
    "height1 = scaling_metrics[\"exp_point_feature\"].values  # 点数1\n",
    "#height2 = shusou_score  # 点数2\n",
    "left = np.arange(len(height1))  # numpyで横軸を設定\n",
    "labels = [\"1.boat\",\"2.boat\", \"3.boat\", \"4.boat\", \"5.boat\", \"6.boat\"]\n",
    " \n",
    "height = 0.2\n",
    "\n",
    "colors = [\"lightblue\",\"black\", \"red\", \"blue\", \"yellow\", \"green\"]\n",
    "\n",
    "plt.figure(dpi=100, figsize=(12,6))\n",
    "last = plt.barh(left, height1, height=height, color= colors, alpha = 0.6)\n",
    "plt.yticks(left + height/2, labels)\n"
   ]
  },
  {
   "cell_type": "code",
   "execution_count": 1,
   "metadata": {},
   "outputs": [],
   "source": [
    "import pandas as pd\n"
   ]
  },
  {
   "cell_type": "code",
   "execution_count": 2,
   "metadata": {},
   "outputs": [],
   "source": [
    "model_path = \"./model_data/\"\n",
    "smooth_ref_data = pd.read_pickle(model_path + \"smoothing_ref_data_20221216.pickle\")  #smoothingで使うデータフレーム\n"
   ]
  },
  {
   "cell_type": "code",
   "execution_count": 3,
   "metadata": {},
   "outputs": [
    {
     "data": {
      "text/html": [
       "<div>\n",
       "<style scoped>\n",
       "    .dataframe tbody tr th:only-of-type {\n",
       "        vertical-align: middle;\n",
       "    }\n",
       "\n",
       "    .dataframe tbody tr th {\n",
       "        vertical-align: top;\n",
       "    }\n",
       "\n",
       "    .dataframe thead th {\n",
       "        text-align: right;\n",
       "    }\n",
       "</style>\n",
       "<table border=\"1\" class=\"dataframe\">\n",
       "  <thead>\n",
       "    <tr style=\"text-align: right;\">\n",
       "      <th></th>\n",
       "      <th>race_num</th>\n",
       "      <th>corse_race_num</th>\n",
       "      <th>racer_lank_int</th>\n",
       "      <th>枠</th>\n",
       "      <th>1着率</th>\n",
       "      <th>2着率</th>\n",
       "      <th>3着率</th>\n",
       "      <th>cabirity</th>\n",
       "      <th>exp_point_feature</th>\n",
       "    </tr>\n",
       "    <tr>\n",
       "      <th>race_id</th>\n",
       "      <th></th>\n",
       "      <th></th>\n",
       "      <th></th>\n",
       "      <th></th>\n",
       "      <th></th>\n",
       "      <th></th>\n",
       "      <th></th>\n",
       "      <th></th>\n",
       "      <th></th>\n",
       "    </tr>\n",
       "  </thead>\n",
       "  <tbody>\n",
       "    <tr>\n",
       "      <th>201401010601</th>\n",
       "      <td>NaN</td>\n",
       "      <td>NaN</td>\n",
       "      <td>3</td>\n",
       "      <td>1</td>\n",
       "      <td>NaN</td>\n",
       "      <td>NaN</td>\n",
       "      <td>NaN</td>\n",
       "      <td>NaN</td>\n",
       "      <td>NaN</td>\n",
       "    </tr>\n",
       "    <tr>\n",
       "      <th>201401010601</th>\n",
       "      <td>NaN</td>\n",
       "      <td>NaN</td>\n",
       "      <td>2</td>\n",
       "      <td>2</td>\n",
       "      <td>NaN</td>\n",
       "      <td>NaN</td>\n",
       "      <td>NaN</td>\n",
       "      <td>NaN</td>\n",
       "      <td>NaN</td>\n",
       "    </tr>\n",
       "    <tr>\n",
       "      <th>201401010601</th>\n",
       "      <td>NaN</td>\n",
       "      <td>NaN</td>\n",
       "      <td>1</td>\n",
       "      <td>3</td>\n",
       "      <td>NaN</td>\n",
       "      <td>NaN</td>\n",
       "      <td>NaN</td>\n",
       "      <td>NaN</td>\n",
       "      <td>NaN</td>\n",
       "    </tr>\n",
       "    <tr>\n",
       "      <th>201401010601</th>\n",
       "      <td>NaN</td>\n",
       "      <td>NaN</td>\n",
       "      <td>2</td>\n",
       "      <td>4</td>\n",
       "      <td>NaN</td>\n",
       "      <td>NaN</td>\n",
       "      <td>NaN</td>\n",
       "      <td>NaN</td>\n",
       "      <td>NaN</td>\n",
       "    </tr>\n",
       "    <tr>\n",
       "      <th>201401010601</th>\n",
       "      <td>NaN</td>\n",
       "      <td>NaN</td>\n",
       "      <td>0</td>\n",
       "      <td>5</td>\n",
       "      <td>NaN</td>\n",
       "      <td>NaN</td>\n",
       "      <td>NaN</td>\n",
       "      <td>NaN</td>\n",
       "      <td>NaN</td>\n",
       "    </tr>\n",
       "    <tr>\n",
       "      <th>...</th>\n",
       "      <td>...</td>\n",
       "      <td>...</td>\n",
       "      <td>...</td>\n",
       "      <td>...</td>\n",
       "      <td>...</td>\n",
       "      <td>...</td>\n",
       "      <td>...</td>\n",
       "      <td>...</td>\n",
       "      <td>...</td>\n",
       "    </tr>\n",
       "    <tr>\n",
       "      <th>202211212412</th>\n",
       "      <td>206.0</td>\n",
       "      <td>29.0</td>\n",
       "      <td>3</td>\n",
       "      <td>2</td>\n",
       "      <td>0.091534</td>\n",
       "      <td>0.370026</td>\n",
       "      <td>0.186146</td>\n",
       "      <td>57.570294</td>\n",
       "      <td>16.396275</td>\n",
       "    </tr>\n",
       "    <tr>\n",
       "      <th>202211212412</th>\n",
       "      <td>231.0</td>\n",
       "      <td>41.0</td>\n",
       "      <td>2</td>\n",
       "      <td>3</td>\n",
       "      <td>0.454381</td>\n",
       "      <td>0.083487</td>\n",
       "      <td>0.107767</td>\n",
       "      <td>56.684811</td>\n",
       "      <td>16.328519</td>\n",
       "    </tr>\n",
       "    <tr>\n",
       "      <th>202211212412</th>\n",
       "      <td>292.0</td>\n",
       "      <td>137.0</td>\n",
       "      <td>3</td>\n",
       "      <td>4</td>\n",
       "      <td>0.141389</td>\n",
       "      <td>0.288722</td>\n",
       "      <td>0.172682</td>\n",
       "      <td>57.189069</td>\n",
       "      <td>16.250811</td>\n",
       "    </tr>\n",
       "    <tr>\n",
       "      <th>202211212412</th>\n",
       "      <td>256.0</td>\n",
       "      <td>51.0</td>\n",
       "      <td>3</td>\n",
       "      <td>5</td>\n",
       "      <td>0.049190</td>\n",
       "      <td>0.261479</td>\n",
       "      <td>0.134558</td>\n",
       "      <td>49.571612</td>\n",
       "      <td>16.622602</td>\n",
       "    </tr>\n",
       "    <tr>\n",
       "      <th>202211212412</th>\n",
       "      <td>192.0</td>\n",
       "      <td>21.0</td>\n",
       "      <td>2</td>\n",
       "      <td>6</td>\n",
       "      <td>0.000000</td>\n",
       "      <td>0.000000</td>\n",
       "      <td>0.213216</td>\n",
       "      <td>46.028802</td>\n",
       "      <td>14.634204</td>\n",
       "    </tr>\n",
       "  </tbody>\n",
       "</table>\n",
       "<p>2686616 rows × 9 columns</p>\n",
       "</div>"
      ],
      "text/plain": [
       "              race_num  corse_race_num  racer_lank_int  枠       1着率       2着率  \\\n",
       "race_id                                                                         \n",
       "201401010601       NaN             NaN               3  1       NaN       NaN   \n",
       "201401010601       NaN             NaN               2  2       NaN       NaN   \n",
       "201401010601       NaN             NaN               1  3       NaN       NaN   \n",
       "201401010601       NaN             NaN               2  4       NaN       NaN   \n",
       "201401010601       NaN             NaN               0  5       NaN       NaN   \n",
       "...                ...             ...             ... ..       ...       ...   \n",
       "202211212412     206.0            29.0               3  2  0.091534  0.370026   \n",
       "202211212412     231.0            41.0               2  3  0.454381  0.083487   \n",
       "202211212412     292.0           137.0               3  4  0.141389  0.288722   \n",
       "202211212412     256.0            51.0               3  5  0.049190  0.261479   \n",
       "202211212412     192.0            21.0               2  6  0.000000  0.000000   \n",
       "\n",
       "                   3着率   cabirity  exp_point_feature  \n",
       "race_id                                               \n",
       "201401010601       NaN        NaN                NaN  \n",
       "201401010601       NaN        NaN                NaN  \n",
       "201401010601       NaN        NaN                NaN  \n",
       "201401010601       NaN        NaN                NaN  \n",
       "201401010601       NaN        NaN                NaN  \n",
       "...                ...        ...                ...  \n",
       "202211212412  0.186146  57.570294          16.396275  \n",
       "202211212412  0.107767  56.684811          16.328519  \n",
       "202211212412  0.172682  57.189069          16.250811  \n",
       "202211212412  0.134558  49.571612          16.622602  \n",
       "202211212412  0.213216  46.028802          14.634204  \n",
       "\n",
       "[2686616 rows x 9 columns]"
      ]
     },
     "execution_count": 3,
     "metadata": {},
     "output_type": "execute_result"
    }
   ],
   "source": [
    "smooth_ref_dataaaa"
   ]
  },
  {
   "cell_type": "code",
   "execution_count": null,
   "metadata": {},
   "outputs": [],
   "source": [
    "a\n"
   ]
  }
 ],
 "metadata": {
  "kernelspec": {
   "display_name": "jinbeiweb",
   "language": "python",
   "name": "python3"
  },
  "language_info": {
   "codemirror_mode": {
    "name": "ipython",
    "version": 3
   },
   "file_extension": ".py",
   "mimetype": "text/x-python",
   "name": "python",
   "nbconvert_exporter": "python",
   "pygments_lexer": "ipython3",
   "version": "3.10.9 (main, Dec 15 2022, 18:18:30) [Clang 14.0.0 (clang-1400.0.29.202)]"
  },
  "orig_nbformat": 4,
  "vscode": {
   "interpreter": {
    "hash": "268af986e2d3d0f06d72ab032f17ad4b6d3e14979512e6335da33b1bc61e2a3b"
   }
  }
 },
 "nbformat": 4,
 "nbformat_minor": 2
}
